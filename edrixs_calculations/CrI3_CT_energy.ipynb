{
 "cells": [
  {
   "cell_type": "code",
   "execution_count": 1,
   "id": "99ecc7c0-726d-4810-ba27-2970da8b8d12",
   "metadata": {},
   "outputs": [],
   "source": [
    "# %matplotlib widget\n",
    "%matplotlib inline\n",
    "\n",
    "import edrixs\n",
    "import numpy as np\n",
    "import scipy as sp\n",
    "\n",
    "import edrixs_utils\n",
    "from edrixs_utils import rmat_t2o_DFT, prepare_slater, prepare_hopping"
   ]
  },
  {
   "cell_type": "markdown",
   "id": "294deb5f-d7a0-40a5-a496-9a69b89fc086",
   "metadata": {},
   "source": [
    "# Number of electrons"
   ]
  },
  {
   "cell_type": "code",
   "execution_count": 2,
   "id": "1ceeba52-5e7d-4109-9b21-fcc9c8bdfe1e",
   "metadata": {},
   "outputs": [],
   "source": [
    "nd = 3\n",
    "norb_d = 10\n",
    "norb_bath = 10\n",
    "nbath = 1\n",
    "v_noccu  = nd + nbath*norb_d\n",
    "shell_name = ('d', 'p') # valence and core shells for calculations"
   ]
  },
  {
   "cell_type": "markdown",
   "id": "00b45155-1636-478f-8004-fa6e8ae1d1d6",
   "metadata": {},
   "source": [
    "# Load atomic data from edrixs database"
   ]
  },
  {
   "cell_type": "code",
   "execution_count": 3,
   "id": "19d0b027-837a-460a-a4d0-c86794a9ca6e",
   "metadata": {},
   "outputs": [],
   "source": [
    "info  = edrixs.utils.get_atom_data('Cr', '3d', nd, edge='L3')\n",
    "zeta_d_i = info['v_soc_i'][0]\n",
    "zeta_d_n = info['v_soc_n'][0]\n",
    "c_soc = info['c_soc']"
   ]
  },
  {
   "cell_type": "markdown",
   "id": "69e31036-0bc1-4742-82c4-911b7c91a167",
   "metadata": {},
   "source": [
    "# Build matrices describing interactions"
   ]
  },
  {
   "cell_type": "code",
   "execution_count": 4,
   "id": "c3da1de3-98b9-49b3-8b95-06a73ea85f51",
   "metadata": {},
   "outputs": [],
   "source": [
    "U_dp = 6.0\n",
    "U_dd = 4.0\n",
    "\n",
    "ten_dq = 0.61\n",
    "\n",
    "Delta = 0.2\n",
    "\n",
    "scale_dd = 0.65\n",
    "scale_dp = 0.5"
   ]
  },
  {
   "cell_type": "code",
   "execution_count": 5,
   "id": "3574f514-c380-42cd-9c24-973917325d1f",
   "metadata": {},
   "outputs": [],
   "source": [
    "# prepare slater parameters\n",
    "slater = prepare_slater(info=info, U_dd=U_dd, U_dp=U_dp, \n",
    "                        scale_dd_i=scale_dd, scale_dd_n=scale_dd, scale_dp=scale_dp)"
   ]
  },
  {
   "cell_type": "code",
   "execution_count": 6,
   "id": "aa2c64c4-e148-482c-a2d8-e1f0e2d71482",
   "metadata": {},
   "outputs": [],
   "source": [
    "# below is the hopping matrix from DFT\n",
    "H_MO = np.array([[ 0.288,   0.002,   0.001,   0.0  ,  -0.003,  -2.008, -0.011,  -0.019,  -0.001,   0.03 ,],\n",
    "                 [ 0.002,   0.0  ,   0.003,   0.003,   0.003,  -0.001, -1.272,  -0.001,   0.007,  -0.002,],\n",
    "                 [ 0.001,   0.003,   0.0  ,  -0.003,   0.003,   0.006, -0.002,  -1.272,  -0.002,  -0.001,],\n",
    "                 [ 0.0  ,   0.003,  -0.003,   0.288,   0.0  ,   0.001, -0.028,   0.024,  -2.008,   0.004,],\n",
    "                 [-0.003,   0.003,   0.003,   0.0  ,   0.0  ,  -0.005, -0.001,  -0.002,  -0.004,  -1.272,],\n",
    "                 [-2.008,  -0.001,   0.006,   0.001,  -0.005,  -0.796,  0.01 ,   0.015,   0.0  ,  -0.026,],\n",
    "                 [-0.011,  -1.272,  -0.002,  -0.028,  -0.001,   0.01 , -2.277,  -0.017,   0.024,  -0.017,],\n",
    "                 [-0.019,  -0.001,  -1.272,   0.024,  -0.002,   0.015, -0.017,  -2.277,  -0.021,  -0.017,],\n",
    "                 [-0.001,   0.007,  -0.002,  -2.008,  -0.004,   0.0  ,  0.024,  -0.021,  -0.796,  -0.003,],\n",
    "                 [ 0.03 ,  -0.002,  -0.001,   0.004,  -1.272,  -0.026, -0.017,  -0.017,  -0.003,  -2.277,],\n",
    "                ])\n",
    "\n",
    "# prepare general hopping matrix\n",
    "hopping_i, hopping_n, E_p = prepare_hopping(H_MO=H_MO, ten_dq=ten_dq, Delta=Delta, nd=nd, U_dd=U_dd,\n",
    "                                            U_dp=U_dp, zeta_d_i=zeta_d_i, zeta_d_n=zeta_d_n, printParams=False,\n",
    "                                           )"
   ]
  },
  {
   "cell_type": "code",
   "execution_count": 7,
   "id": "28bae03d-f6ff-4628-bb0e-3fe2c4f2b791",
   "metadata": {},
   "outputs": [
    {
     "name": "stdout",
     "output_type": "stream",
     "text": [
      "[0.00288675 0.00288675 0.00288675]\n"
     ]
    }
   ],
   "source": [
    "# apply c-aixs magnetic field to simulate the magnetic order in CrI3\n",
    "ext_B = np.array([0.00, 0.00, 0.005])\n",
    "ext_B = np.dot(ext_B, rmat_t2o_DFT())\n",
    "print(ext_B) # Vector of external magnetic field with respect to global `xyz`-axis.\n",
    "on_which = 'spin'"
   ]
  },
  {
   "cell_type": "code",
   "execution_count": 8,
   "id": "b95a9463-4339-472b-8500-3f9d73c0c0a6",
   "metadata": {},
   "outputs": [],
   "source": [
    "trans_c2n = edrixs.tmat_c2r('d',True)\n",
    "om_shift = 576.3\n",
    "c_level = -om_shift - 5*E_p"
   ]
  },
  {
   "cell_type": "markdown",
   "id": "734b0f53-06e6-43ef-ba80-cad7b90cf7e8",
   "metadata": {},
   "source": [
    "# Calculate charge transfer energy"
   ]
  },
  {
   "cell_type": "code",
   "execution_count": 9,
   "id": "13eedcc1-2091-4884-a6bc-18fccac6d5b2",
   "metadata": {},
   "outputs": [],
   "source": [
    "hopping_i_CT = np.zeros((20,20), dtype=complex)\n",
    "hopping_n_CT = np.zeros((20,20), dtype=complex)\n",
    "\n",
    "hopping_i_CT += hopping_i\n",
    "hopping_n_CT += hopping_n\n",
    "\n",
    "\n",
    "\n",
    "hopping_i_CT[0:10,10:20] = np.zeros((10,10), dtype=complex)\n",
    "hopping_i_CT[10:20,0:10] = np.zeros((10,10), dtype=complex)\n",
    "hopping_n_CT[0:10,10:20] = np.zeros((10,10), dtype=complex)\n",
    "hopping_n_CT[10:20,0:10] = np.zeros((10,10), dtype=complex)"
   ]
  },
  {
   "cell_type": "code",
   "execution_count": 10,
   "id": "14bd3ffb-8fba-4b87-99fb-8e6d8f83b5e4",
   "metadata": {},
   "outputs": [],
   "source": [
    "umat_chb = np.zeros((20, 20, 20, 20), dtype=complex)\n",
    "umat_delectrons_chb = edrixs.get_umat_slater('d', *slater[0])\n",
    "umat_chb[:norb_d, :norb_d, :norb_d, :norb_d] += umat_delectrons_chb\n",
    "\n",
    "emat_rhb = np.zeros((20, 20), dtype='complex')\n",
    "emat_rhb += hopping_i_CT\n",
    "tmat = sp.linalg.block_diag(edrixs.tmat_r2c('d',True), edrixs.tmat_r2c('d',True))\n",
    "emat_chb = edrixs.cb_op(emat_rhb, tmat)\n",
    "v_orbl = 2\n",
    "sx, sy, sz = edrixs.get_sx(v_orbl), edrixs.get_sy(v_orbl), edrixs.get_sz(v_orbl)\n",
    "zeeman = ext_B[0] * (2 * sx) + ext_B[1] * (2 * sy) + ext_B[2] * (2 * sz)\n",
    "emat_chb[0:norb_d, 0:norb_d] += zeeman"
   ]
  },
  {
   "cell_type": "code",
   "execution_count": 11,
   "id": "8e756bdc-b6a0-4264-a5af-da26f728f5b1",
   "metadata": {},
   "outputs": [
    {
     "name": "stdout",
     "output_type": "stream",
     "text": [
      "Charge transfer energy is -1.265 eV\n"
     ]
    }
   ],
   "source": [
    "energies = []\n",
    "\n",
    "for n_ligand_holes in [0, 1]:\n",
    "    basis_d = edrixs.get_fock_bin_by_N(10, nd + n_ligand_holes)\n",
    "    Hd = (edrixs.build_opers(2, emat_chb[:10, :10], basis_d)\n",
    "          + edrixs.build_opers(4, umat_chb[:10, :10, :10, :10], basis_d))\n",
    "    ed = sp.linalg.eigh(Hd)[0][0]\n",
    "\n",
    "    basis_L = edrixs.get_fock_bin_by_N(10, 10 - n_ligand_holes)\n",
    "    HL = (edrixs.build_opers(2, emat_chb[10:, 10:], basis_L)\n",
    "          + edrixs.build_opers(4, umat_chb[10:, 10:, 10:, 10:], basis_L))\n",
    "    eL = sp.linalg.eigh(HL)[0][0]\n",
    "    energies.append(ed + eL)\n",
    "\n",
    "print(f\"Charge transfer energy is {energies[1] - energies[0]:.3f} eV\")"
   ]
  },
  {
   "cell_type": "code",
   "execution_count": null,
   "id": "ac9342bf-851a-4ff2-adaa-24f42ed45695",
   "metadata": {},
   "outputs": [],
   "source": []
  }
 ],
 "metadata": {
  "kernelspec": {
   "display_name": "Python 3 (ipykernel)",
   "language": "python",
   "name": "python3"
  },
  "language_info": {
   "codemirror_mode": {
    "name": "ipython",
    "version": 3
   },
   "file_extension": ".py",
   "mimetype": "text/x-python",
   "name": "python",
   "nbconvert_exporter": "python",
   "pygments_lexer": "ipython3",
   "version": "3.10.12"
  }
 },
 "nbformat": 4,
 "nbformat_minor": 5
}
