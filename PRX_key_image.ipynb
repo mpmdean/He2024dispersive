{
 "cells": [
  {
   "cell_type": "markdown",
   "id": "017040c1-9b4f-4b9f-bf4b-4a643ddacf69",
   "metadata": {},
   "source": [
    "# import modules"
   ]
  },
  {
   "cell_type": "code",
   "execution_count": 1,
   "id": "07beeda3-1c2b-4142-87ba-e3215c974379",
   "metadata": {},
   "outputs": [],
   "source": [
    "%matplotlib inline\n",
    "\n",
    "import numpy as np\n",
    "from h5py import File as h5_file\n",
    "import matplotlib.pyplot as plt\n",
    "from matplotlib import ticker\n",
    "\n",
    "import matplotlib.patches as patches"
   ]
  },
  {
   "cell_type": "code",
   "execution_count": 2,
   "id": "1787840b-1e6b-43b7-9888-cb1f7f32d402",
   "metadata": {},
   "outputs": [],
   "source": [
    "from matplotlib import rcParams\n",
    "\n",
    "rcParams['font.size'] = 12\n",
    "rcParams['lines.linewidth'] = 1.5\n",
    "rcParams['lines.markersize'] = 3\n",
    "rcParams['axes.labelsize'] = 12\n",
    "rcParams['axes.labelpad'] = 1\n",
    "rcParams['axes.linewidth']= 0.7\n",
    "rcParams['ytick.minor.width']= 0.5\n",
    "rcParams['legend.handletextpad']= 0.2\n",
    "rcParams['legend.markerscale']= 1.2\n",
    "rcParams['xtick.labelsize']= 9\n",
    "rcParams['ytick.labelsize']= 9\n",
    "rcParams['xtick.major.size']= 3\n",
    "rcParams['ytick.major.size']= 3\n",
    "rcParams['xtick.major.pad']= 3\n",
    "rcParams['ytick.major.pad']= 3\n",
    "rcParams['xtick.major.width']= 0.7\n",
    "rcParams['ytick.major.width']= 0.7\n",
    "rcParams['xtick.minor.size']= 1.7\n",
    "rcParams['ytick.minor.size']= 1.7\n",
    "rcParams['xtick.minor.pad']= 2.8\n",
    "rcParams['ytick.minor.pad']= 2.8\n",
    "rcParams['xtick.minor.width']= 0.6\n",
    "rcParams['ytick.minor.width']= 0.6\n",
    "\n",
    "rcParams['xtick.direction']='in'\n",
    "rcParams['ytick.direction']='in'\n",
    "rcParams['xtick.top']=True\n",
    "rcParams['ytick.right']=True"
   ]
  },
  {
   "cell_type": "code",
   "execution_count": 3,
   "id": "e99e17e9-4999-4d0e-8898-8cf22af0e137",
   "metadata": {
    "tags": []
   },
   "outputs": [],
   "source": [
    "spectra_thdep_data = h5_file('data/RIXS_data/thdep_1dSpectra.hdf', 'r')\n",
    "spectra_thdep_fits = h5_file('data/RIXS_fits/thdep_fits.hdf', 'r')"
   ]
  },
  {
   "cell_type": "code",
   "execution_count": 4,
   "id": "11742726-914b-4388-a468-82da80604afd",
   "metadata": {
    "tags": []
   },
   "outputs": [],
   "source": [
    "fig, ax = plt.subplots(1, 1, dpi=100, figsize=(4, 4), gridspec_kw=dict(left=0.12, right=0.95, bottom=0.1, top=0.95, wspace=0, hspace=0))\n",
    "\n",
    "color_D1 = 'tab:red'\n",
    "color_D2 = 'tab:red'\n",
    "color_background = 'grey'\n",
    "\n",
    "select = 3\n",
    "alpha = 0.4\n",
    "markersize = 3.5\n",
    "elinewidth = 0.5\n",
    "capsize = 1.5\n",
    "capthick = 0.5\n",
    "H = spectra_thdep_data['H'][select]\n",
    "\n",
    "x = spectra_thdep_data['E1']['spectra_H_{:.2f}_2pt_per_pixel'.format(H)]['eloss'][:]/1e3\n",
    "y = spectra_thdep_data['E1']['spectra_H_{:.2f}_2pt_per_pixel'.format(H)]['intensity'][:]\n",
    "yerr = spectra_thdep_data['E1']['spectra_H_{:.2f}_2pt_per_pixel'.format(H)]['error'][:]\n",
    "\n",
    "\n",
    "ax.errorbar(x, y, yerr=yerr,marker='o', fillstyle='full', color='k', ls='',markersize=markersize,\n",
    "            elinewidth=elinewidth,capsize=capsize,capthick=capthick,alpha=1,zorder=0)\n",
    "\n",
    "x = spectra_thdep_fits['E1']['fits_H_{:.2f}'.format(H)]['exciton']['x'][:]/1e3\n",
    "y = spectra_thdep_fits['E1']['fits_H_{:.2f}'.format(H)]['exciton']['y'][:]\n",
    "ax.plot(x, y,'-',color='k',zorder=2)\n",
    "\n",
    "background = spectra_thdep_fits['E1']['fits_H_{:.2f}'.format(H)]['exciton']['bckg'][:]\n",
    "ax.plot(x, background,'-',zorder=1, alpha=alpha, color=color_background,)\n",
    "ax.fill_between(x, background, y2=0, alpha=alpha, color=color_background,)\n",
    "\n",
    "y = spectra_thdep_fits['E1']['fits_H_{:.2f}'.format(H)]['exciton']['peak1'][:]\n",
    "ax.plot(x, y+background,'-',color=color_D1,zorder=1, alpha=alpha)\n",
    "ax.fill_between(x, y+background, y2=background, color=color_D1, alpha=alpha)\n",
    "y = spectra_thdep_fits['E1']['fits_H_{:.2f}'.format(H)]['exciton']['peak2'][:]\n",
    "ax.plot(x, y+background,'-',color=color_D2,zorder=1, alpha=alpha)\n",
    "ax.fill_between(x, y+background, y2=background, color=color_D2, alpha=alpha)\n",
    "\n",
    "\n",
    "# axis range and ticks\n",
    "ax.set_xlim(1.3, 2.)\n",
    "ax.set_ylim(-0.02, 0.7)\n",
    "ax.set_xticks(np.arange(1.4, 2, 0.2))\n",
    "ax.set_yticks(np.arange(0, 0.801, 0.4))\n",
    "ax.xaxis.set_minor_locator(ticker.AutoMinorLocator(2))\n",
    "ax.yaxis.set_minor_locator(ticker.AutoMinorLocator(2))\n",
    "\n",
    "# axis label\n",
    "ax.set_xlabel('Energy (eV)')\n",
    "ax.set_ylabel('Intensity')\n",
    "\n",
    "\n",
    "axin = ax.inset_axes([0.3, 0.3, 0.68, 0.7])\n",
    "im = plt.imread('excitons.png')\n",
    "axin.imshow(im)\n",
    "axin.axis('off')\n",
    "\n",
    "\n",
    "# add the arrow\n",
    "arrow = patches.FancyArrowPatch(\n",
    "    (0.55, 0.6),\n",
    "    (0.58, 0.35),\n",
    "    connectionstyle='arc3, rad=-0.3',\n",
    "    mutation_scale=10,\n",
    "    facecolor='k',\n",
    "    edgecolor='k',\n",
    "    clip_on=False,\n",
    ")\n",
    "newax = fig.add_axes(ax.get_position(), frameon=False)\n",
    "newax.add_patch(arrow)\n",
    "newax.axis('off')\n",
    "\n",
    "newax.text(x=0.15, y=0.60, s='Dark\\nexcitons', va='center', ha='center', fontsize=14, transform=ax.transAxes, )\n",
    "\n",
    "fig.savefig('PRX_key_image.png', dpi=100)"
   ]
  },
  {
   "cell_type": "code",
   "execution_count": null,
   "id": "fbe79f30-73e8-4a0f-8cb3-b9f0042f8a95",
   "metadata": {},
   "outputs": [],
   "source": []
  }
 ],
 "metadata": {
  "kernelspec": {
   "display_name": "Python 3 (ipykernel)",
   "language": "python",
   "name": "python3"
  },
  "language_info": {
   "codemirror_mode": {
    "name": "ipython",
    "version": 3
   },
   "file_extension": ".py",
   "mimetype": "text/x-python",
   "name": "python",
   "nbconvert_exporter": "python",
   "pygments_lexer": "ipython3",
   "version": "3.10.12"
  },
  "toc-autonumbering": true,
  "toc-showmarkdowntxt": true
 },
 "nbformat": 4,
 "nbformat_minor": 5
}
